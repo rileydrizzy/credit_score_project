{
 "cells": [
  {
   "attachments": {},
   "cell_type": "markdown",
   "metadata": {},
   "source": [
    "## Credit Score Project"
   ]
  },
  {
   "cell_type": "code",
   "execution_count": 11,
   "metadata": {},
   "outputs": [],
   "source": [
    "#importing necessary libaries \n",
    "from sklearn.ensemble import RandomForestClassifier\n",
    "from sklearn.linear_model import LogisticRegression\n",
    "from sklearn.metrics import precision_recall_curve, precision_score, roc_auc_score, roc_curve\n",
    "from sklearn.metrics import accuracy_score, f1_score\n",
    "from sklearn.model_selection import train_test_split\n",
    "import xgboost as xgb\n",
    "import pandas as pd\n",
    "import numpy as np\n",
    "import matplotlib.pyplot as plt\n",
    "from pathlib import Path\n",
    "import matplotlib.pyplot as plt\n",
    "from dataprep.clean import clean_headers"
   ]
  },
  {
   "cell_type": "code",
   "execution_count": 12,
   "metadata": {},
   "outputs": [
    {
     "name": "stdout",
     "output_type": "stream",
     "text": [
      "Column Headers Cleaning Report:\n",
      "\t197 values cleaned (100.0%)\n"
     ]
    }
   ],
   "source": [
    "#Importing the dataset for train\n",
    "train_path = Path('data', 'data_devsample.csv')\n",
    "credit_df = pd.read_csv(train_path)\n",
    "credit_df = clean_headers(credit_df)"
   ]
  },
  {
   "cell_type": "code",
   "execution_count": 13,
   "metadata": {},
   "outputs": [
    {
     "data": {
      "text/plain": [
       "(80000, 197)"
      ]
     },
     "execution_count": 13,
     "metadata": {},
     "output_type": "execute_result"
    }
   ],
   "source": [
    "credit_df.shape"
   ]
  },
  {
   "cell_type": "code",
   "execution_count": 14,
   "metadata": {},
   "outputs": [],
   "source": [
    "nums_df = credit_df[nums_list:=[col for col in credit_df.columns if credit_df[col].dtypes in [int,float]]]\n",
    "cat_df = credit_df.drop(nums_list, axis= 'columns')"
   ]
  },
  {
   "cell_type": "code",
   "execution_count": 15,
   "metadata": {},
   "outputs": [
    {
     "name": "stdout",
     "output_type": "stream",
     "text": [
      "6\n"
     ]
    },
    {
     "data": {
      "text/plain": [
       "name_contract_type                0\n",
       "code_gender                       0\n",
       "flag_own_car                      0\n",
       "flag_own_realty                   0\n",
       "name_type_suite                 353\n",
       "name_income_type                  0\n",
       "name_education_type               0\n",
       "name_family_status                0\n",
       "name_housing_type                 0\n",
       "occupation_type               25067\n",
       "weekday_appr_process_start        0\n",
       "organization_type                 0\n",
       "fondkapremont_mode            54886\n",
       "housetype_mode                40120\n",
       "wallsmaterial_mode            40626\n",
       "emergencystate_mode           37892\n",
       "time                              0\n",
       "dtype: int64"
      ]
     },
     "execution_count": 15,
     "metadata": {},
     "output_type": "execute_result"
    }
   ],
   "source": [
    "print((cat_df.isnull().sum() > 0).sum())\n",
    "cat_df.isna().sum()"
   ]
  },
  {
   "cell_type": "code",
   "execution_count": 39,
   "metadata": {},
   "outputs": [
    {
     "name": "stdout",
     "output_type": "stream",
     "text": [
      "name_type_suite unique values are: ['Family' 'Unaccompanied' 'Spouse, partner' 'Children' 'Group of people'\n",
      " nan 'Other_B' 'Other_A'] \n",
      " with 353 missing rows \n",
      "\n",
      "occupation_type unique values are: ['Laborers' nan 'Medicine staff' 'Drivers' 'Sales staff' 'Managers'\n",
      " 'Accountants' 'Cooking staff' 'Waiters/barmen staff' 'Core staff'\n",
      " 'High skill tech staff' 'Cleaning staff' 'HR staff' 'Security staff'\n",
      " 'Private service staff' 'Low-skill Laborers' 'Secretaries'\n",
      " 'Realty agents' 'IT staff'] \n",
      " with 25067 missing rows \n",
      "\n",
      "fondkapremont_mode unique values are: [nan 'reg oper account' 'org spec account' 'reg oper spec account'\n",
      " 'not specified'] \n",
      " with 54886 missing rows \n",
      "\n",
      "housetype_mode unique values are: ['block of flats' nan 'specific housing' 'terraced house'] \n",
      " with 40120 missing rows \n",
      "\n",
      "wallsmaterial_mode unique values are: ['Panel' nan 'Stone, brick' 'Monolithic' 'Others' 'Block' 'Wooden' 'Mixed'] \n",
      " with 40626 missing rows \n",
      "\n",
      "emergencystate_mode unique values are: ['No' nan 'Yes'] \n",
      " with 37892 missing rows \n",
      "\n"
     ]
    }
   ],
   "source": [
    "missing_col = [col for col in cat_df.columns if cat_df[col].isna().sum()]\n",
    "for col in missing_col:\n",
    "    print(f\"{col} unique values are: {cat_df[col].unique()} \\n with {cat_df[col].isnull().sum()} missing rows \\n\")"
   ]
  },
  {
   "cell_type": "code",
   "execution_count": 31,
   "metadata": {},
   "outputs": [
    {
     "data": {
      "text/plain": [
       "0               Family\n",
       "1        Unaccompanied\n",
       "2        Unaccompanied\n",
       "3        Unaccompanied\n",
       "4        Unaccompanied\n",
       "             ...      \n",
       "79995    Unaccompanied\n",
       "79996    Unaccompanied\n",
       "79997          Other_A\n",
       "79998    Unaccompanied\n",
       "79999    Unaccompanied\n",
       "Name: name_type_suite, Length: 80000, dtype: object"
      ]
     },
     "execution_count": 31,
     "metadata": {},
     "output_type": "execute_result"
    }
   ],
   "source": []
  }
 ],
 "metadata": {
  "kernelspec": {
   "display_name": "Python 3",
   "language": "python",
   "name": "python3"
  },
  "language_info": {
   "codemirror_mode": {
    "name": "ipython",
    "version": 3
   },
   "file_extension": ".py",
   "mimetype": "text/x-python",
   "name": "python",
   "nbconvert_exporter": "python",
   "pygments_lexer": "ipython3",
   "version": "3.10.4"
  },
  "orig_nbformat": 4
 },
 "nbformat": 4,
 "nbformat_minor": 2
}
