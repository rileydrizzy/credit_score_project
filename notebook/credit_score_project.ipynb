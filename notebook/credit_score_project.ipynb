{
 "cells": [
  {
   "attachments": {},
   "cell_type": "markdown",
   "metadata": {},
   "source": [
    "## Credit Score Project"
   ]
  },
  {
   "cell_type": "code",
   "execution_count": 2,
   "metadata": {},
   "outputs": [],
   "source": [
    "#importing necessary libaries \n",
    "from sklearn.ensemble import RandomForestClassifier\n",
    "from sklearn.linear_model import LogisticRegression\n",
    "from sklearn.metrics import precision_recall_curve, precision_score, roc_auc_score, roc_curve\n",
    "from sklearn.metrics import accuracy_score, f1_score\n",
    "from sklearn.model_selection import train_test_split\n",
    "import xgboost as xgb\n",
    "import pandas as pd\n",
    "import numpy as np\n",
    "import matplotlib.pyplot as plt\n",
    "from pathlib import Path\n",
    "import matplotlib.pyplot as plt\n",
    "#from dataprep.clean import clean_headers"
   ]
  },
  {
   "cell_type": "code",
   "execution_count": 6,
   "metadata": {},
   "outputs": [
    {
     "ename": "ModuleNotFoundError",
     "evalue": "No module named 'polars'",
     "output_type": "error",
     "traceback": [
      "\u001b[1;31m---------------------------------------------------------------------------\u001b[0m",
      "\u001b[1;31mModuleNotFoundError\u001b[0m                       Traceback (most recent call last)",
      "Cell \u001b[1;32mIn[6], line 1\u001b[0m\n\u001b[1;32m----> 1\u001b[0m \u001b[39mimport\u001b[39;00m \u001b[39mpolars\u001b[39;00m \u001b[39mas\u001b[39;00m \u001b[39mpl\u001b[39;00m \n",
      "\u001b[1;31mModuleNotFoundError\u001b[0m: No module named 'polars'"
     ]
    }
   ],
   "source": [
    "import polars as pl "
   ]
  },
  {
   "cell_type": "code",
   "execution_count": 3,
   "metadata": {},
   "outputs": [],
   "source": [
    "#Importing the dataset for train\n",
    "train_path = Path('data', 'data_devsample.csv')\n",
    "credit_df = pd.read_csv(train_path)"
   ]
  },
  {
   "cell_type": "code",
   "execution_count": null,
   "metadata": {},
   "outputs": [],
   "source": [
    "df = pl.read_csv(train_path)\n",
    "print(df.shape)\n",
    "df.head()"
   ]
  },
  {
   "cell_type": "code",
   "execution_count": 4,
   "metadata": {},
   "outputs": [
    {
     "data": {
      "text/plain": [
       "(80000, 197)"
      ]
     },
     "execution_count": 4,
     "metadata": {},
     "output_type": "execute_result"
    }
   ],
   "source": [
    "credit_df.shape"
   ]
  },
  {
   "cell_type": "code",
   "execution_count": 11,
   "metadata": {},
   "outputs": [
    {
     "data": {
      "text/html": [
       "<div>\n",
       "<style scoped>\n",
       "    .dataframe tbody tr th:only-of-type {\n",
       "        vertical-align: middle;\n",
       "    }\n",
       "\n",
       "    .dataframe tbody tr th {\n",
       "        vertical-align: top;\n",
       "    }\n",
       "\n",
       "    .dataframe thead th {\n",
       "        text-align: right;\n",
       "    }\n",
       "</style>\n",
       "<table border=\"1\" class=\"dataframe\">\n",
       "  <thead>\n",
       "    <tr style=\"text-align: right;\">\n",
       "      <th></th>\n",
       "      <th>SK_ID_CURR</th>\n",
       "      <th>TARGET</th>\n",
       "      <th>NAME_CONTRACT_TYPE</th>\n",
       "      <th>CODE_GENDER</th>\n",
       "      <th>FLAG_OWN_CAR</th>\n",
       "      <th>FLAG_OWN_REALTY</th>\n",
       "      <th>CNT_CHILDREN</th>\n",
       "      <th>AMT_INCOME_TOTAL</th>\n",
       "      <th>AMT_CREDIT</th>\n",
       "      <th>AMT_ANNUITY</th>\n",
       "      <th>...</th>\n",
       "      <th>MEAN_AMTCR_OVERDUE_0M_INFM_TYPE_EQ_ACTIVE_DIV_MEAN_AMTCR_0M_INFM_TYPE_EQ_ACTIVE</th>\n",
       "      <th>MEAN_AMTCR_OVERDUE_0M_12M_TYPE_EQ_ACTIVE_DIV_MEAN_AMTCR_0M_12M_TYPE_EQ_ACTIVE</th>\n",
       "      <th>MEAN_AMTCR_OVERDUE_0M_INFM_TYPE_EQ_CLOSED_DIV_MEAN_AMTCR_0M_INFM_TYPE_EQ_CLOSED</th>\n",
       "      <th>MEAN_AMTCR_OVERDUE_0M_12M_TYPE_EQ_CLOSED_DIV_MEAN_AMTCR_0M_12M_TYPE_EQ_CLOSED</th>\n",
       "      <th>FIRST_TRANSACTION_TIME_MONTHS</th>\n",
       "      <th>LAST_TRANSACTION_TIME_MONTHS</th>\n",
       "      <th>TIME</th>\n",
       "      <th>BASE</th>\n",
       "      <th>DAY</th>\n",
       "      <th>MONTH</th>\n",
       "    </tr>\n",
       "  </thead>\n",
       "  <tbody>\n",
       "    <tr>\n",
       "      <th>0</th>\n",
       "      <td>215138</td>\n",
       "      <td>0.0</td>\n",
       "      <td>Cash loans</td>\n",
       "      <td>M</td>\n",
       "      <td>N</td>\n",
       "      <td>Y</td>\n",
       "      <td>0.0</td>\n",
       "      <td>135000.0</td>\n",
       "      <td>646920.0</td>\n",
       "      <td>25195.5</td>\n",
       "      <td>...</td>\n",
       "      <td>0.0</td>\n",
       "      <td>NaN</td>\n",
       "      <td>0.0</td>\n",
       "      <td>NaN</td>\n",
       "      <td>37.0</td>\n",
       "      <td>28.0</td>\n",
       "      <td>2018-06-23</td>\n",
       "      <td>1</td>\n",
       "      <td>20180623</td>\n",
       "      <td>201806</td>\n",
       "    </tr>\n",
       "    <tr>\n",
       "      <th>1</th>\n",
       "      <td>325963</td>\n",
       "      <td>0.0</td>\n",
       "      <td>Cash loans</td>\n",
       "      <td>M</td>\n",
       "      <td>Y</td>\n",
       "      <td>Y</td>\n",
       "      <td>0.0</td>\n",
       "      <td>135000.0</td>\n",
       "      <td>740218.5</td>\n",
       "      <td>40284.0</td>\n",
       "      <td>...</td>\n",
       "      <td>0.0</td>\n",
       "      <td>0.0</td>\n",
       "      <td>0.0</td>\n",
       "      <td>NaN</td>\n",
       "      <td>3.0</td>\n",
       "      <td>18.0</td>\n",
       "      <td>2018-06-16</td>\n",
       "      <td>1</td>\n",
       "      <td>20180616</td>\n",
       "      <td>201806</td>\n",
       "    </tr>\n",
       "    <tr>\n",
       "      <th>2</th>\n",
       "      <td>206923</td>\n",
       "      <td>0.0</td>\n",
       "      <td>Cash loans</td>\n",
       "      <td>F</td>\n",
       "      <td>N</td>\n",
       "      <td>Y</td>\n",
       "      <td>0.0</td>\n",
       "      <td>180000.0</td>\n",
       "      <td>339241.5</td>\n",
       "      <td>12919.5</td>\n",
       "      <td>...</td>\n",
       "      <td>0.0</td>\n",
       "      <td>NaN</td>\n",
       "      <td>0.0</td>\n",
       "      <td>NaN</td>\n",
       "      <td>73.0</td>\n",
       "      <td>61.0</td>\n",
       "      <td>2018-06-19</td>\n",
       "      <td>1</td>\n",
       "      <td>20180619</td>\n",
       "      <td>201806</td>\n",
       "    </tr>\n",
       "    <tr>\n",
       "      <th>3</th>\n",
       "      <td>265855</td>\n",
       "      <td>0.0</td>\n",
       "      <td>Cash loans</td>\n",
       "      <td>F</td>\n",
       "      <td>N</td>\n",
       "      <td>Y</td>\n",
       "      <td>0.0</td>\n",
       "      <td>180000.0</td>\n",
       "      <td>1264428.0</td>\n",
       "      <td>37098.0</td>\n",
       "      <td>...</td>\n",
       "      <td>0.0</td>\n",
       "      <td>0.0</td>\n",
       "      <td>NaN</td>\n",
       "      <td>NaN</td>\n",
       "      <td>36.0</td>\n",
       "      <td>4.0</td>\n",
       "      <td>2018-08-09</td>\n",
       "      <td>1</td>\n",
       "      <td>20180809</td>\n",
       "      <td>201808</td>\n",
       "    </tr>\n",
       "    <tr>\n",
       "      <th>4</th>\n",
       "      <td>359795</td>\n",
       "      <td>0.0</td>\n",
       "      <td>Revolving loans</td>\n",
       "      <td>F</td>\n",
       "      <td>N</td>\n",
       "      <td>Y</td>\n",
       "      <td>NaN</td>\n",
       "      <td>76500.0</td>\n",
       "      <td>202500.0</td>\n",
       "      <td>10125.0</td>\n",
       "      <td>...</td>\n",
       "      <td>NaN</td>\n",
       "      <td>NaN</td>\n",
       "      <td>0.0</td>\n",
       "      <td>0.0</td>\n",
       "      <td>12.0</td>\n",
       "      <td>12.0</td>\n",
       "      <td>2018-11-13</td>\n",
       "      <td>1</td>\n",
       "      <td>20181113</td>\n",
       "      <td>201811</td>\n",
       "    </tr>\n",
       "  </tbody>\n",
       "</table>\n",
       "<p>5 rows × 197 columns</p>\n",
       "</div>"
      ],
      "text/plain": [
       "   SK_ID_CURR  TARGET NAME_CONTRACT_TYPE CODE_GENDER FLAG_OWN_CAR  \\\n",
       "0      215138     0.0         Cash loans           M            N   \n",
       "1      325963     0.0         Cash loans           M            Y   \n",
       "2      206923     0.0         Cash loans           F            N   \n",
       "3      265855     0.0         Cash loans           F            N   \n",
       "4      359795     0.0    Revolving loans           F            N   \n",
       "\n",
       "  FLAG_OWN_REALTY  CNT_CHILDREN  AMT_INCOME_TOTAL  AMT_CREDIT  AMT_ANNUITY  \\\n",
       "0               Y           0.0          135000.0    646920.0      25195.5   \n",
       "1               Y           0.0          135000.0    740218.5      40284.0   \n",
       "2               Y           0.0          180000.0    339241.5      12919.5   \n",
       "3               Y           0.0          180000.0   1264428.0      37098.0   \n",
       "4               Y           NaN           76500.0    202500.0      10125.0   \n",
       "\n",
       "   ...  \\\n",
       "0  ...   \n",
       "1  ...   \n",
       "2  ...   \n",
       "3  ...   \n",
       "4  ...   \n",
       "\n",
       "   MEAN_AMTCR_OVERDUE_0M_INFM_TYPE_EQ_ACTIVE_DIV_MEAN_AMTCR_0M_INFM_TYPE_EQ_ACTIVE  \\\n",
       "0                                                0.0                                 \n",
       "1                                                0.0                                 \n",
       "2                                                0.0                                 \n",
       "3                                                0.0                                 \n",
       "4                                                NaN                                 \n",
       "\n",
       "  MEAN_AMTCR_OVERDUE_0M_12M_TYPE_EQ_ACTIVE_DIV_MEAN_AMTCR_0M_12M_TYPE_EQ_ACTIVE  \\\n",
       "0                                                NaN                              \n",
       "1                                                0.0                              \n",
       "2                                                NaN                              \n",
       "3                                                0.0                              \n",
       "4                                                NaN                              \n",
       "\n",
       "  MEAN_AMTCR_OVERDUE_0M_INFM_TYPE_EQ_CLOSED_DIV_MEAN_AMTCR_0M_INFM_TYPE_EQ_CLOSED  \\\n",
       "0                                                0.0                                \n",
       "1                                                0.0                                \n",
       "2                                                0.0                                \n",
       "3                                                NaN                                \n",
       "4                                                0.0                                \n",
       "\n",
       "  MEAN_AMTCR_OVERDUE_0M_12M_TYPE_EQ_CLOSED_DIV_MEAN_AMTCR_0M_12M_TYPE_EQ_CLOSED  \\\n",
       "0                                                NaN                              \n",
       "1                                                NaN                              \n",
       "2                                                NaN                              \n",
       "3                                                NaN                              \n",
       "4                                                0.0                              \n",
       "\n",
       "  FIRST_TRANSACTION_TIME_MONTHS LAST_TRANSACTION_TIME_MONTHS        TIME  \\\n",
       "0                          37.0                         28.0  2018-06-23   \n",
       "1                           3.0                         18.0  2018-06-16   \n",
       "2                          73.0                         61.0  2018-06-19   \n",
       "3                          36.0                          4.0  2018-08-09   \n",
       "4                          12.0                         12.0  2018-11-13   \n",
       "\n",
       "   BASE       DAY   MONTH  \n",
       "0     1  20180623  201806  \n",
       "1     1  20180616  201806  \n",
       "2     1  20180619  201806  \n",
       "3     1  20180809  201808  \n",
       "4     1  20181113  201811  \n",
       "\n",
       "[5 rows x 197 columns]"
      ]
     },
     "execution_count": 11,
     "metadata": {},
     "output_type": "execute_result"
    }
   ],
   "source": [
    "credit_df.sort_values(by=)"
   ]
  },
  {
   "cell_type": "code",
   "execution_count": null,
   "metadata": {},
   "outputs": [],
   "source": [
    "cnums_df = credit_df[nums_list:=[col for col in credit_df.columns if credit_df[col].dtypes in [int,float]]]\n",
    "cat_df = credit_df.drop(nums_list, axis= 'columns')"
   ]
  },
  {
   "cell_type": "code",
   "execution_count": null,
   "metadata": {},
   "outputs": [
    {
     "name": "stdout",
     "output_type": "stream",
     "text": [
      "6\n"
     ]
    },
    {
     "data": {
      "text/plain": [
       "name_contract_type                0\n",
       "code_gender                       0\n",
       "flag_own_car                      0\n",
       "flag_own_realty                   0\n",
       "name_type_suite                 353\n",
       "name_income_type                  0\n",
       "name_education_type               0\n",
       "name_family_status                0\n",
       "name_housing_type                 0\n",
       "occupation_type               25067\n",
       "weekday_appr_process_start        0\n",
       "organization_type                 0\n",
       "fondkapremont_mode            54886\n",
       "housetype_mode                40120\n",
       "wallsmaterial_mode            40626\n",
       "emergencystate_mode           37892\n",
       "time                              0\n",
       "dtype: int64"
      ]
     },
     "execution_count": 15,
     "metadata": {},
     "output_type": "execute_result"
    }
   ],
   "source": [
    "print((cat_df.isnull().sum() > 0).sum())\n",
    "cat_df.isna().sum()"
   ]
  },
  {
   "cell_type": "code",
   "execution_count": null,
   "metadata": {},
   "outputs": [
    {
     "name": "stdout",
     "output_type": "stream",
     "text": [
      "name_type_suite unique values are: ['Family' 'Unaccompanied' 'Spouse, partner' 'Children' 'Group of people'\n",
      " nan 'Other_B' 'Other_A'] \n",
      " with 353 missing rows \n",
      "\n",
      "occupation_type unique values are: ['Laborers' nan 'Medicine staff' 'Drivers' 'Sales staff' 'Managers'\n",
      " 'Accountants' 'Cooking staff' 'Waiters/barmen staff' 'Core staff'\n",
      " 'High skill tech staff' 'Cleaning staff' 'HR staff' 'Security staff'\n",
      " 'Private service staff' 'Low-skill Laborers' 'Secretaries'\n",
      " 'Realty agents' 'IT staff'] \n",
      " with 25067 missing rows \n",
      "\n",
      "fondkapremont_mode unique values are: [nan 'reg oper account' 'org spec account' 'reg oper spec account'\n",
      " 'not specified'] \n",
      " with 54886 missing rows \n",
      "\n",
      "housetype_mode unique values are: ['block of flats' nan 'specific housing' 'terraced house'] \n",
      " with 40120 missing rows \n",
      "\n",
      "wallsmaterial_mode unique values are: ['Panel' nan 'Stone, brick' 'Monolithic' 'Others' 'Block' 'Wooden' 'Mixed'] \n",
      " with 40626 missing rows \n",
      "\n",
      "emergencystate_mode unique values are: ['No' nan 'Yes'] \n",
      " with 37892 missing rows \n",
      "\n"
     ]
    }
   ],
   "source": [
    "missing_col = [col for col in cat_df.columns if cat_df[col].isna().sum()]\n",
    "for col in missing_col:\n",
    "    print(f\"{col} unique values are: {cat_df[col].unique()} \\n with {cat_df[col].isnull().sum()} missing rows \\n\")"
   ]
  },
  {
   "cell_type": "code",
   "execution_count": null,
   "metadata": {},
   "outputs": [
    {
     "data": {
      "text/plain": [
       "0               Family\n",
       "1        Unaccompanied\n",
       "2        Unaccompanied\n",
       "3        Unaccompanied\n",
       "4        Unaccompanied\n",
       "             ...      \n",
       "79995    Unaccompanied\n",
       "79996    Unaccompanied\n",
       "79997          Other_A\n",
       "79998    Unaccompanied\n",
       "79999    Unaccompanied\n",
       "Name: name_type_suite, Length: 80000, dtype: object"
      ]
     },
     "execution_count": 31,
     "metadata": {},
     "output_type": "execute_result"
    }
   ],
   "source": []
  }
 ],
 "metadata": {
  "kernelspec": {
   "display_name": "Python 3",
   "language": "python",
   "name": "python3"
  },
  "language_info": {
   "codemirror_mode": {
    "name": "ipython",
    "version": 3
   },
   "file_extension": ".py",
   "mimetype": "text/x-python",
   "name": "python",
   "nbconvert_exporter": "python",
   "pygments_lexer": "ipython3",
   "version": "3.11.2"
  },
  "orig_nbformat": 4
 },
 "nbformat": 4,
 "nbformat_minor": 2
}
